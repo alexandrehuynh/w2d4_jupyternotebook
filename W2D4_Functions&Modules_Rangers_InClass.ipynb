{
 "cells": [
  {
   "cell_type": "markdown",
   "metadata": {},
   "source": [
    "# User-Defined Functions & Scoping"
   ]
  },
  {
   "cell_type": "markdown",
   "metadata": {},
   "source": [
    "## Tasks Today:\n",
    "\n",
    "\n",
    "1) Functions <br>\n",
    " &nbsp;&nbsp;&nbsp;&nbsp; a) User-Defined vs. Built-In Functions <br>\n",
    " &nbsp;&nbsp;&nbsp;&nbsp; b) Accepting Parameters <br>\n",
    " &nbsp;&nbsp;&nbsp;&nbsp; c) Default Parameters <br>\n",
    " &nbsp;&nbsp;&nbsp;&nbsp; d) Making an Argument Optional <br>\n",
    " &nbsp;&nbsp;&nbsp;&nbsp; e) Keyword Arguments <br>\n",
    " &nbsp;&nbsp;&nbsp;&nbsp; f) Returning Values <br>\n",
    " &nbsp;&nbsp;&nbsp;&nbsp; g) *args <br>\n",
    " &nbsp;&nbsp;&nbsp;&nbsp; h) Docstring <br>\n",
    " &nbsp;&nbsp;&nbsp;&nbsp; i) Using a User Function in a Loop <br>\n",
    "2) Scope\n",
    "3) Creating more User-Defined functions \n",
    "4) Modules <br>\n",
    " &nbsp;&nbsp;&nbsp;&nbsp; a) Importing Entire Modules <br>\n",
    " &nbsp;&nbsp;&nbsp;&nbsp; b) Importing Methods Only <br>\n",
    " &nbsp;&nbsp;&nbsp;&nbsp; c) Using the 'as' Keyword <br>\n",
    " &nbsp;&nbsp;&nbsp;&nbsp; d) Creating a Module <br>"
   ]
  },
  {
   "cell_type": "markdown",
   "metadata": {},
   "source": [
    "\n",
    "## Functions"
   ]
  },
  {
   "cell_type": "markdown",
   "metadata": {},
   "source": [
    "##### User-Defined vs. Built-In Functions"
   ]
  },
  {
   "cell_type": "code",
   "execution_count": 19,
   "metadata": {
    "tags": []
   },
   "outputs": [
    {
     "name": "stdout",
     "output_type": "stream",
     "text": [
      "Hello\n",
      "HELLO AGAIN\n",
      "hello againHello\n"
     ]
    },
    {
     "data": {
      "text/plain": [
       "'hello'"
      ]
     },
     "execution_count": 19,
     "metadata": {},
     "output_type": "execute_result"
    }
   ],
   "source": [
    "# built in fuctions\n",
    "# min(), max(), print(\"\"), str()\n",
    "\n",
    "# user defined\n",
    "# def keyword function.name(): ex. def say_hello():\n",
    "\n",
    "def say_hello():\n",
    "    \n",
    "    return \"Hello\"\n",
    "\n",
    "say_hello()\n",
    "\n",
    "print(say_hello())\n",
    "\n",
    "def say_hello2():\n",
    "    return \"hello again\"\n",
    "\n",
    "\n",
    "print(say_hello2().upper())\n",
    "\n",
    "## cannot use built in function \n",
    "    ## with a function that returns a print\n",
    "\n",
    "def say_hello_error():\n",
    "    \n",
    "    \n",
    "    hello = say_hello()\n",
    "    print(\"hello again \" + hello )\n",
    "\n",
    "\n",
    "say_hello_error()#.lower()\n",
    "\n",
    "\n",
    "## Storing a variable\n",
    "def say_hello3():\n",
    "    \n",
    "    hello = say_hello()\n",
    "    return hello\n",
    "\n",
    "say_hello3().lower()\n",
    "\n"
   ]
  },
  {
   "cell_type": "markdown",
   "metadata": {},
   "source": [
    "##### Accepting Parameters"
   ]
  },
  {
   "cell_type": "code",
   "execution_count": 51,
   "metadata": {
    "scrolled": true,
    "tags": []
   },
   "outputs": [
    {
     "name": "stdout",
     "output_type": "stream",
     "text": [
      "the weather is kinda gross today\n"
     ]
    },
    {
     "name": "stdin",
     "output_type": "stream",
     "text": [
      "noun please:  alex\n",
      "adjective please:  copacetic\n",
      "verb please:  bussing\n"
     ]
    },
    {
     "name": "stdout",
     "output_type": "stream",
     "text": [
      "The alex is very copacetic when it's bussing \n",
      "\n",
      "The wolf is very confident when it's swags \n",
      "\n",
      "The cat is very quick when it's jumps \n",
      "\n",
      "The dog is very lazy when it's sleeps \n",
      "\n",
      "The bird is very small when it's flies \n",
      "\n"
     ]
    }
   ],
   "source": [
    "# elements passed into a function\n",
    "# variables to hold the place of items our function will act upon\n",
    "# order matters\n",
    "# a parameter can be of any object type (data type)\n",
    "\n",
    "                    #parameter\n",
    "def print_something(something):\n",
    "    return something\n",
    "                        #argument\n",
    "print(print_something(\"the weather is kinda gross today\"))\n",
    "\n",
    "def make_sentence(noun, adjective, verb):\n",
    "    \n",
    "    return f\"The {noun} is very {adjective} when it's {verb}\"\n",
    "\n",
    "### Input\n",
    "noun = input(\"noun please: \")\n",
    "adjective = input(\"adjective please: \")\n",
    "verb = input(\"verb please: \")\n",
    "\n",
    "print(make_sentence(noun, adjective, verb), \"\\n\")\n",
    "\n",
    "### List \n",
    "\n",
    "word_list = [\"wolf\", \"confident\", \"swags\"]\n",
    "\n",
    "for word in word_list:\n",
    "    sentence = make_sentence(word_list[0], word_list[1], word_list[2])\n",
    "print(sentence, \"\\n\")\n",
    "\n",
    "### Dictionary\n",
    "word_set = [\n",
    "    {\"noun\": \"cat\", \"adjective\": \"quick\", \"verb\": \"jumps\"},\n",
    "    {\"noun\": \"dog\", \"adjective\": \"lazy\", \"verb\": \"sleeps\"},\n",
    "    {\"noun\": \"bird\", \"adjective\": \"small\", \"verb\": \"flies\"}\n",
    "]\n",
    "\n",
    "for word_set in word_sets:\n",
    "    sentence = make_sentence(word_set[\"noun\"], word_set[\"adjective\"], word_set[\"verb\"])\n",
    "    print(sentence, \"\\n\")        "
   ]
  },
  {
   "cell_type": "markdown",
   "metadata": {},
   "source": [
    "##### Default Parameters"
   ]
  },
  {
   "cell_type": "code",
   "execution_count": 28,
   "metadata": {
    "tags": []
   },
   "outputs": [
    {
     "name": "stdout",
     "output_type": "stream",
     "text": [
      "The name is Bond.... Jimmy Bond\n",
      "The name is Jenkins.... Leroy Jenkins\n"
     ]
    }
   ],
   "source": [
    "# default parameters must always come after non-default parameters at \n",
    "# all times forever and ever...or else\n",
    "\n",
    "def agent_name(first_name, last_name = \"Bond\"):\n",
    "    return f\"The name is {last_name}.... {first_name} {last_name}\"\n",
    "\n",
    "print(agent_name(\"Jimmy\"))\n",
    "\n",
    "print(agent_name(\"Leroy\", \"Jenkins\"))"
   ]
  },
  {
   "cell_type": "code",
   "execution_count": 29,
   "metadata": {
    "tags": []
   },
   "outputs": [
    {
     "name": "stdout",
     "output_type": "stream",
     "text": [
      "The name is Jenkins.... Leroy Jenkins\n"
     ]
    }
   ],
   "source": [
    "# default parameters must always come after non-default parameters at \n",
    "# all times forever and ever...or else\n",
    "def agent_name(first_name = \"James\", last_name = \"Bond\"):\n",
    "    return f\"The name is {last_name}.... {first_name} {last_name}\"\n",
    "\n",
    "print(agent_name(last_name=\"Jenkins\", first_name=\"Leroy\"))\n"
   ]
  },
  {
   "cell_type": "code",
   "execution_count": 31,
   "metadata": {
    "tags": []
   },
   "outputs": [
    {
     "name": "stdout",
     "output_type": "stream",
     "text": [
      "Alex's birthday is January 21 and you were born in 2023\n",
      "Alex's birthday is November 11 and you were born in 2023\n"
     ]
    }
   ],
   "source": [
    "def birthday_month(day, year, month=\"January\"):\n",
    "    return f\"Alex's birthday is {month} {day} and you were born in {year}\"\n",
    "print(birthday_month(21, 1994))\n",
    "\n",
    "\n",
    "### Overriding information stated in function parameters\n",
    "print(birthday_month(11, 1994, \"November\"))"
   ]
  },
  {
   "cell_type": "markdown",
   "metadata": {},
   "source": [
    "##### Making an Argument Optional"
   ]
  },
  {
   "cell_type": "code",
   "execution_count": 33,
   "metadata": {
    "tags": []
   },
   "outputs": [
    {
     "name": "stdout",
     "output_type": "stream",
     "text": [
      "Hello Ryan Rhoades\n",
      "Hello Ryan Allen Rhoades.\n"
     ]
    }
   ],
   "source": [
    "## non-default has to follow default\n",
    "def print_full_name(first, last, middle = \"\"):\n",
    "    if middle == '':\n",
    "        return f\"Hello {first} {last}\"\n",
    "    return f\"Hello {first} {middle} {last}.\"\n",
    "\n",
    "\n",
    "print(print_full_name(\"Ryan\", \"Rhoades\"))\n",
    "print(print_full_name(\"Ryan\", \"Rhoades\", \"Allen\"))"
   ]
  },
  {
   "cell_type": "markdown",
   "metadata": {},
   "source": [
    "##### Keyword Arguments"
   ]
  },
  {
   "cell_type": "code",
   "execution_count": 35,
   "metadata": {
    "tags": []
   },
   "outputs": [
    {
     "name": "stdout",
     "output_type": "stream",
     "text": [
      "batman's power is money and their secret identity is Bruce Wayne\n",
      "batman's power is money and their secret identity is Bruce Wayne\n"
     ]
    }
   ],
   "source": [
    "#keyword arguments must follow positional arugments\n",
    "def print_hero(name, secret_identity, power=\"flying\"):\n",
    "    return f\"{name}'s power is {power} and their secret identity is {secret_identity}\"\n",
    "\n",
    "print(print_hero(power=\"money\", name=\"batman\", secret_identity=\"Bruce Wayne\"))\n",
    "\n",
    "# positional value goes before keyword argument\n",
    "print(print_hero(\"batman\", power=\"money\", secret_identity=\"Bruce Wayne\"))"
   ]
  },
  {
   "cell_type": "code",
   "execution_count": 39,
   "metadata": {
    "tags": []
   },
   "outputs": [
    {
     "name": "stdout",
     "output_type": "stream",
     "text": [
      "Here are some neat colors: yellow, blue, red\n",
      "Here are some neat colors: yellow, sunset orange, maroon\n"
     ]
    }
   ],
   "source": [
    "my_color = \"yellow\"\n",
    "\n",
    "def print_colors(color1, color2, color3):\n",
    "    return f\"Here are some neat colors: {color1}, {color2}, {color3}\"\n",
    "\n",
    "print(print_colors(color1=\"yellow\", color3=\"red\", color2=\"blue\"))\n",
    "print(print_colors(my_color, color3=\"maroon\", color2=\"sunset orange\"))"
   ]
  },
  {
   "cell_type": "markdown",
   "metadata": {},
   "source": [
    "# Creating a start, stop, step function"
   ]
  },
  {
   "cell_type": "code",
   "execution_count": 48,
   "metadata": {
    "tags": []
   },
   "outputs": [
    {
     "name": "stdout",
     "output_type": "stream",
     "text": [
      "0\n",
      "3\n",
      "6\n",
      "9\n",
      "Hey great job, you're beautiful!\n"
     ]
    }
   ],
   "source": [
    "#### range(stop, start = 0, step = 1)\n",
    "def my_range(stop, start=0, step =1):\n",
    "    for i in range(start, stop, step):\n",
    "        print(i)\n",
    "    return \"Hey great job, you're beautiful!\"\n",
    "print(my_range(11, 0 , 3))"
   ]
  },
  {
   "cell_type": "code",
   "execution_count": 67,
   "metadata": {
    "tags": []
   },
   "outputs": [
    {
     "name": "stdout",
     "output_type": "stream",
     "text": [
      "[4, 16, 36, 64]\n",
      "[2.0, 4.0, 6.0, 8.0]\n",
      "\n",
      "\n",
      "[9, 36, 81, 144]\n",
      "[3.0, 6.0, 9.0, 12.0]\n"
     ]
    }
   ],
   "source": [
    "num_list = [3, 6, 9, 12]\n",
    "\n",
    "def square_nums(arr):\n",
    "    square_list = []\n",
    "    for num in arr:        \n",
    "        square_list.append(num**2)\n",
    "    return square_list\n",
    "\n",
    "def square_root_nums(arr):\n",
    "    square_root_list = []\n",
    "    for num in arr:\n",
    "        (square_root_list.append(num**0.5))\n",
    "    return square_root_list\n",
    "\n",
    "\n",
    "print(square_nums([2, 4, 6, 8]))\n",
    "print(square_root_nums(square_nums([2, 4, 6, 8])))\n",
    "print(\"\\n\")\n",
    "print(square_nums(num_list))\n",
    "print(square_root_nums(square_nums(num_list)))\n"
   ]
  },
  {
   "cell_type": "markdown",
   "metadata": {},
   "source": [
    "##### Returning Values"
   ]
  },
  {
   "cell_type": "code",
   "execution_count": 76,
   "metadata": {
    "tags": []
   },
   "outputs": [
    {
     "name": "stdout",
     "output_type": "stream",
     "text": [
      "Bulba Bulba\n"
     ]
    }
   ],
   "source": [
    "poke_list = [\"Charmander\", \"Squirtle\", \"Cyndaquil\", \"Chikorita\", \"Totodile\", \"Bulbasaur\"]\n",
    "# poke_list = [\"Charmander\", \"Squirtle\", \"Cyndaquil\", \"Chikorita\", \"Totodile\", \"Bulbasau\"]\n",
    "\n",
    "def find_a_bulbasaur(arr):\n",
    "    for poke in arr:\n",
    "        if poke == \"Bulbasaur\":\n",
    "            return \"Bulba Bulba\"\n",
    "    return \"No Bulbasaur, sad\"\n",
    "\n",
    "print(find_a_bulbasaur(poke_list))"
   ]
  },
  {
   "cell_type": "code",
   "execution_count": 77,
   "metadata": {
    "tags": []
   },
   "outputs": [
    {
     "name": "stdout",
     "output_type": "stream",
     "text": [
      "Bulba Bulba\n"
     ]
    }
   ],
   "source": [
    "def is_bulbasaur(string):\n",
    "    if string == \"Bulba Bulba\":\n",
    "        return \"You caught a Bulbasaur!\"\n",
    "    return \"Oh! the Bulbasaur appeared to be caught....and it ran away\"\n",
    "\n",
    "\n",
    "\n",
    "is_bulbasaur(find_a_bulbasaur(poke_list))\n",
    "\n",
    "caught = find_a_bulbasaur(poke_list)\n",
    "print(caught)\n",
    "\n"
   ]
  },
  {
   "cell_type": "markdown",
   "metadata": {},
   "source": [
    "##### *args / **kwargs (keyword arguments)"
   ]
  },
  {
   "cell_type": "code",
   "execution_count": null,
   "metadata": {},
   "outputs": [],
   "source": [
    "#*args, **kwargs\n",
    "# *args stands for arguments and will allow the function to take in any number of arguments\n",
    "# **kwargs stands for key word arguments and will allow the function to take in any number of keyword arguments\n",
    "# if other parameters are present, args and kwarfs must go last\n",
    "\n",
    "def print_args(*args):\n",
    "    print(args)\n",
    "    for thing in args:\n",
    "        print(thing)\n",
    "print_args(\"Apple\", \"Banana\", \"Grape\", \"Strawberry\")\n"
   ]
  },
  {
   "cell_type": "code",
   "execution_count": 97,
   "metadata": {
    "tags": []
   },
   "outputs": [
    {
     "name": "stdout",
     "output_type": "stream",
     "text": [
      "{'Charmander': 'fire', 'Squirtle': 'water', 'Bulbasaur': 'grass'}\n",
      "Charmander is a fire type\n",
      "Squirtle is a water type\n",
      "Bulbasaur is a grass type\n"
     ]
    }
   ],
   "source": [
    "# **kwargs stands for key word arguments and will allow the function to take in any number of keyword arguments\n",
    "def print_kwargs(**kwargs):\n",
    "    print(kwargs)\n",
    "    for poke, poke_type in kwargs.items():\n",
    "        print(f\"{poke} is a {poke_type} type\")\n",
    "    \n",
    "print_kwargs(Charmander = \"fire\", Squirtle = \"water\", Bulbasaur = \"grass\")"
   ]
  },
  {
   "cell_type": "code",
   "execution_count": 107,
   "metadata": {
    "tags": []
   },
   "outputs": [
    {
     "name": "stdout",
     "output_type": "stream",
     "text": [
      "This is my postional argument: 1 2 3 Apples\n",
      "These are my arguments: ('Grapes', 'Bananas', 'Strawberries', 'What else is on my desk?', 12, 54)\n",
      "These are my keyword arguments: {'names': ['Chuck', 'Desiree', 'Patrick'], 'language': 'python'}\n"
     ]
    }
   ],
   "source": [
    "# if other parameters are present, args and kwargs must go last\n",
    "\n",
    "def print_args(num1, num2, num3, fruit, *args, **kwargs):\n",
    "    print(\"This is my postional argument:\", num1, num2, num3, fruit)\n",
    "    print(\"These are my arguments:\", args)\n",
    "    print(\"These are my keyword arguments:\", kwargs)\n",
    "\n",
    "print_args(1, 2, 3, \n",
    "           \"Apples\", \"Grapes\", \"Bananas\", \"Strawberries\", \n",
    "           \"What else is on my desk?\", 12, 54, \n",
    "           names=[\"Chuck\", \"Desiree\", \"Patrick\"], language=\"python\")\n",
    "    \n"
   ]
  },
  {
   "cell_type": "markdown",
   "metadata": {},
   "source": [
    "##### Docstring"
   ]
  },
  {
   "cell_type": "code",
   "execution_count": 143,
   "metadata": {
    "tags": []
   },
   "outputs": [
    {
     "name": "stdout",
     "output_type": "stream",
     "text": [
      "Ryan\n",
      "Alex\n",
      "Alex\n",
      "Justin\n",
      "Will\n",
      "\n",
      "\n",
      "\n",
      "    Here are instructions for the function:\n",
      "    step1 \n",
      "    step2\n",
      "    step 3\n",
      "\n",
      "\n",
      "Help on function print_names in module __main__:\n",
      "\n",
      "print_names(arr)\n",
      "    Function requires a list to be passed as an arugment.\n",
      "    It will print the contents of the list. It is expecting  a list of \n",
      "    names as strings to be passed in.\n",
      "\n"
     ]
    }
   ],
   "source": [
    "# docstrings are a really nice way to leave notes about funciontality in your code\n",
    "# provide instructions\n",
    "def print_names(arr):\n",
    "    \n",
    "    # three quotes for docstrings\n",
    "    \"\"\"\n",
    "    Function requires a list to be passed as an arugment.\n",
    "    It will print the contents of the list. It is expecting  a list of \n",
    "    names as strings to be passed in.\n",
    "    \"\"\"\n",
    "               \n",
    "#     loop through names list and print them\n",
    "    for name in arr:\n",
    "        print(name)\n",
    "    print(\"\\n\")   \n",
    "    print(\"\"\"\n",
    "    Here are instructions for the function:\n",
    "    step1 \n",
    "    step2\n",
    "    step 3\"\"\")\n",
    "        \n",
    "print_names(['Ryan', \"Alex\", \"Alex\", \"Justin\", \"Will\"])\n",
    "\n",
    "print('\\n')\n",
    "help(print_names)\n",
    "    \n",
    "    "
   ]
  },
  {
   "cell_type": "markdown",
   "metadata": {},
   "source": [
    "##### Using a User Function in a Loop"
   ]
  },
  {
   "cell_type": "code",
   "execution_count": 151,
   "metadata": {
    "tags": []
   },
   "outputs": [
    {
     "name": "stdin",
     "output_type": "stream",
     "text": [
      "What's going on? not much\n"
     ]
    },
    {
     "name": "stdout",
     "output_type": "stream",
     "text": [
      "not much\n"
     ]
    },
    {
     "name": "stdin",
     "output_type": "stream",
     "text": [
      "Are you ready to quit?  yes\n"
     ]
    }
   ],
   "source": [
    "store = {}\n",
    "def print_input(answer):\n",
    "    # print(f\"I say heyayayayayayaayayayayayaya {answer}\")\n",
    "    return answer\n",
    "\n",
    "while True:\n",
    "    ask = input(\"What's going on?\")\n",
    "    \n",
    "    print(print_input(ask))\n",
    "    \n",
    "    response = input(\"Are you ready to quit? \")\n",
    "    if response.lower() == \"yes\":\n",
    "            break\n",
    "    \n"
   ]
  },
  {
   "cell_type": "code",
   "execution_count": null,
   "metadata": {
    "scrolled": true
   },
   "outputs": [],
   "source": []
  },
  {
   "cell_type": "code",
   "execution_count": null,
   "metadata": {},
   "outputs": [],
   "source": []
  },
  {
   "cell_type": "markdown",
   "metadata": {},
   "source": [
    "## Function Exercises <br>\n",
    "### Exercise 1\n",
    "<p>Write a function that loops through a list of first_names and a list of last_names, combines the two and return a list of full_names</p>"
   ]
  },
  {
   "cell_type": "code",
   "execution_count": 89,
   "metadata": {
    "tags": []
   },
   "outputs": [
    {
     "name": "stdout",
     "output_type": "stream",
     "text": [
      "['John Smith', 'Evan Smith', 'Jordan Williams', 'Max Bell']\n"
     ]
    }
   ],
   "source": [
    "first_name = ['John', 'Evan', 'Jordan', 'Max']\n",
    "last_name = ['Smith', 'Smith', 'Williams', 'Bell']\n",
    "\n",
    "# Output: ['John Smith', 'Evan Smith', 'Jordan Williams', 'Max Bell']\n",
    "\n",
    "def full_name_maker(first, last):\n",
    "    full_name = []\n",
    "    \n",
    "    if len(first_name) != len(last_name):\n",
    "        print(f\"numbers of name in lists do no match\")\n",
    "    else:\n",
    "        for i in range(0, len(first_name)):\n",
    "            full_name.append(first[i] + \" \" + last[i])\n",
    "    \n",
    "    return full_name\n",
    "\n",
    "full_name_maker(first_name, last_name)\n",
    "print(full_name_maker(first_name, last_name))"
   ]
  },
  {
   "cell_type": "code",
   "execution_count": 160,
   "metadata": {
    "tags": []
   },
   "outputs": [
    {
     "name": "stdout",
     "output_type": "stream",
     "text": [
      "['John Smith', 'Evan Smith', 'Jordan Williams', 'Max Bell']\n"
     ]
    }
   ],
   "source": [
    "first_name = ['John', 'Evan', 'Jordan', 'Max']\n",
    "last_name = ['Smith', 'Smith', 'Williams', 'Bell']\n",
    "\n",
    "def full_name_maker(first, last):\n",
    "    \n",
    "    ## Transform is what we are adding into the list\n",
    "    return [first[i] + \" \" + last[i] for i in range(len(first))]\n",
    "\n",
    "full_name_maker(first_name, last_name)\n",
    "print(full_name_maker(first_name, last_name))"
   ]
  },
  {
   "cell_type": "markdown",
   "metadata": {},
   "source": [
    "### Exercise 2\n",
    "Create a function that alters all values in the given list by subtracting 5 and then doubling them."
   ]
  },
  {
   "cell_type": "code",
   "execution_count": 153,
   "metadata": {
    "tags": []
   },
   "outputs": [
    {
     "name": "stdout",
     "output_type": "stream",
     "text": [
      "[0, 10, 20, 30, -4]\n"
     ]
    }
   ],
   "source": [
    "input_list = [5,10,15,20,3]\n",
    "# output = [0,10,20,30,-4]\n",
    "\n",
    "def calc_list(arr):\n",
    "    # calc_list = []\n",
    "    # for num in arr:  \n",
    "    #     final_calc = (num-5)*2\n",
    "    #     calc_list.append(final_calc)\n",
    "    # return calc_list\n",
    "\n",
    "    return[((num-5)*2) for num in arr]\n",
    "\n",
    "print(calc_list(input_list))"
   ]
  },
  {
   "cell_type": "markdown",
   "metadata": {},
   "source": [
    "### Exercise 3\n",
    "Create a function that takes in a list of strings and filters out the strings that DO NOT contain vowels. "
   ]
  },
  {
   "cell_type": "code",
   "execution_count": 183,
   "metadata": {},
   "outputs": [
    {
     "name": "stdout",
     "output_type": "stream",
     "text": [
      "['Sheldon', 'Leonard', 'Amy']\n"
     ]
    }
   ],
   "source": [
    "string_list = ['Sheldon','Pnny','Leonard','Hwrd','Rj','Amy','Strt']\n",
    "# output = ['Sheldon','Leonard','Amy']\n",
    "\n",
    "def vowels_only(lis):\n",
    "    vowels = [\"a\", \"e\", \"i\", \"o\", \"u\"]\n",
    "    cool_names = []\n",
    "    \n",
    "    for name in lis:\n",
    "        for letter in name:\n",
    "            if letter.lower() in vowels:\n",
    "                cool_names.append(name)\n",
    "                break\n",
    "                \n",
    "    return cool_names\n",
    "\n",
    "print(vowels_only(string_list))\n",
    "        "
   ]
  },
  {
   "cell_type": "code",
   "execution_count": null,
   "metadata": {},
   "outputs": [],
   "source": []
  },
  {
   "cell_type": "code",
   "execution_count": null,
   "metadata": {},
   "outputs": [],
   "source": []
  },
  {
   "cell_type": "markdown",
   "metadata": {},
   "source": [
    "### Exercise 4\n",
    "Create a function that accepts a list as a parameter and returns a dictionary containing the list items as it's keys, and the number of times they appear in the list as the values"
   ]
  },
  {
   "cell_type": "code",
   "execution_count": 168,
   "metadata": {},
   "outputs": [
    {
     "name": "stdout",
     "output_type": "stream",
     "text": [
      "{'Harry': 3, 'Hermione': 2, 'Ron': 4, 'Dobby': 1, 'Draco': 1, 'Luna': 1}\n"
     ]
    }
   ],
   "source": [
    "example_list = [\"Harry\", 'Hermione','Harry','Ron','Dobby','Draco','Luna','Harry','Hermione','Ron','Ron','Ron']\n",
    "\n",
    "# output = {\n",
    "#     \"Harry\":3,\n",
    "#     \"Hermione\":2,\n",
    "#     \"Ron\":4,\n",
    "#     \"Dobby\":1,\n",
    "#     \"Draco\":1,\n",
    "#     \"Luna\": 1\n",
    "# }\n",
    "\n",
    "def we_count(arr):\n",
    "    count_dict = {}\n",
    "\n",
    "    for name in arr:\n",
    "        if name not in count_dict:\n",
    "            count_dict[name] = 1\n",
    "        else:\n",
    "            count_dict[name] += 1\n",
    "    return count_dict\n",
    "\n",
    "print(we_count(example_list))"
   ]
  },
  {
   "cell_type": "code",
   "execution_count": 172,
   "metadata": {
    "tags": []
   },
   "outputs": [
    {
     "name": "stdout",
     "output_type": "stream",
     "text": [
      "{'Harry': 3, 'Hermione': 2, 'Ron': 4, 'Dobby': 1, 'Draco': 1, 'Luna': 1}\n"
     ]
    }
   ],
   "source": [
    "example_list = [\"Harry\", 'Hermione','Harry','Ron','Dobby','Draco','Luna','Harry','Hermione','Ron','Ron','Ron']\n",
    "\n",
    "def we_count(arr):\n",
    "    count_dict = {}\n",
    "    for name in arr:\n",
    "        count_dict[name] = count_dict.get(name, 0) + 1\n",
    "            \n",
    "    return count_dict\n",
    "\n",
    "print(we_count(example_list))"
   ]
  },
  {
   "cell_type": "markdown",
   "metadata": {},
   "source": [
    "\n",
    "\n",
    "## Scope <br>\n",
    "<p>Scope refers to the ability to access variables, different types of scope include:<br>a) Global<br>b) Function (local)<br>c) Class (local)</p>"
   ]
  },
  {
   "cell_type": "code",
   "execution_count": 214,
   "metadata": {},
   "outputs": [
    {
     "name": "stdout",
     "output_type": "stream",
     "text": [
      "3\n",
      "4\n"
     ]
    }
   ],
   "source": [
    "# placement of variable declaration matters\n",
    "\n",
    "number = 3 #<-- global variable\n",
    "\n",
    "def return_num(num9):\n",
    "    num = num9 #locally scoped function variable\n",
    "    return num\n",
    "print(number)\n",
    "# print(num1)\n",
    "print(return_num(4))\n",
    "# print(num9)\n",
    "# print(num1)"
   ]
  },
  {
   "cell_type": "code",
   "execution_count": 230,
   "metadata": {},
   "outputs": [
    {
     "data": {
      "text/plain": [
       "-1"
      ]
     },
     "execution_count": 230,
     "metadata": {},
     "output_type": "execute_result"
    }
   ],
   "source": [
    "def add_nums(a, b):\n",
    "    number1 = a\n",
    "    number2 = b\n",
    "    return a + b\n",
    "\n",
    "def subtract_nums(a, b):\n",
    "    number1 = a\n",
    "    number2 = b\n",
    "    return a - b\n",
    "\n",
    "subtract_nums(4,5)"
   ]
  },
  {
   "cell_type": "markdown",
   "metadata": {},
   "source": [
    "## Modules"
   ]
  },
  {
   "cell_type": "markdown",
   "metadata": {},
   "source": [
    "##### Importing Entire Modules\n"
   ]
  },
  {
   "cell_type": "code",
   "execution_count": 231,
   "metadata": {},
   "outputs": [
    {
     "name": "stdout",
     "output_type": "stream",
     "text": [
      "2\n",
      "3\n",
      "4\n"
     ]
    }
   ],
   "source": [
    "## Modules\n",
    "\n",
    "import math \n",
    "\n",
    "num = 5\n",
    "num2 = 2\n",
    "num3 = num//num2\n",
    "print(num3)\n",
    "\n",
    "print(math.ceil(5/2))\n",
    "\n",
    "print(math.ceil(math.pi))\n",
    "\n"
   ]
  },
  {
   "cell_type": "markdown",
   "metadata": {},
   "source": [
    "##### Importing Methods Only"
   ]
  },
  {
   "cell_type": "code",
   "execution_count": 232,
   "metadata": {},
   "outputs": [
    {
     "name": "stdout",
     "output_type": "stream",
     "text": [
      "3.141592653589793\n",
      "4\n",
      "3\n"
     ]
    }
   ],
   "source": [
    "# from xxx import yyy\n",
    "#from math import floor\n",
    "from math import floor, pi, ceil\n",
    "print(pi)\n",
    "print(ceil(pi))\n",
    "print(floor(pi))"
   ]
  },
  {
   "cell_type": "markdown",
   "metadata": {},
   "source": [
    "##### Using the 'as' Keyword"
   ]
  },
  {
   "cell_type": "code",
   "execution_count": 238,
   "metadata": {},
   "outputs": [
    {
     "name": "stdout",
     "output_type": "stream",
     "text": [
      "3\n",
      "3.141592653589793\n",
      "4\n"
     ]
    }
   ],
   "source": [
    "# from xxx import yyy as z\n",
    "from math import floor as f, pi as p, ceil as c\n",
    "\n",
    "### floor rounds down the nearest whole number\n",
    "print(f(p))\n",
    "print(p)\n",
    "print(c(p))"
   ]
  },
  {
   "cell_type": "markdown",
   "metadata": {},
   "source": [
    "##### Creating a Module"
   ]
  },
  {
   "cell_type": "code",
   "execution_count": 234,
   "metadata": {},
   "outputs": [
    {
     "name": "stdout",
     "output_type": "stream",
     "text": [
      "Hello Mr/Ms Ryan...we've been waiting for you!\n"
     ]
    }
   ],
   "source": [
    "from module import printName as pn\n",
    "\n",
    "pn('Ryan')"
   ]
  },
  {
   "cell_type": "code",
   "execution_count": null,
   "metadata": {},
   "outputs": [],
   "source": []
  },
  {
   "cell_type": "code",
   "execution_count": null,
   "metadata": {},
   "outputs": [],
   "source": []
  },
  {
   "cell_type": "markdown",
   "metadata": {},
   "source": [
    "# Homework Exercises"
   ]
  },
  {
   "cell_type": "markdown",
   "metadata": {},
   "source": [
    "### 1) Create a Module in VS Code and Import It into jupyter notebook <br>\n",
    "<p><b>Module should have the following capabilities:</b><br><br>\n",
    "1a) Has a function to calculate the square footage of a house <br>\n",
    "    <b>Reminder of Formula: Length X Width == Area</b><br>\n",
    "        <hr>\n",
    "1b) Has a function to calculate the circumference of a circle 2 Pi r <br><br>\n",
    "<b>Program in Jupyter Notebook should take in user input and use imported functions to calculate a circle's circumference or a houses square footage</b>\n",
    "</p>"
   ]
  },
  {
   "cell_type": "code",
   "execution_count": 3,
   "metadata": {},
   "outputs": [
    {
     "name": "stdout",
     "output_type": "stream",
     "text": [
      "the square feet of the house is 504 sq ft\n",
      "the circumference of the circle is 50.26548245743669\n"
     ]
    }
   ],
   "source": [
    "from geometry import house_sqft as house_sqft, circumference as circumference\n",
    "\n",
    "print(f\"the square feet of the house is {house_sqft(24,21)} sq ft\")\n",
    "print(f\"the circumference of the circle is {circumference(8)}\")\n",
    "\n"
   ]
  },
  {
   "cell_type": "markdown",
   "metadata": {},
   "source": [
    "### 2) Build a Shopping Cart Function <br>\n",
    "<p><b>You can use either lists or dictionaries. The program should have the following capabilities:</b><br><br>\n",
    "1) Takes in input <br>\n",
    "2) Stores user input into a dictionary or list <br>\n",
    "3) The User can add or delete items <br>\n",
    "4) The User can see current shopping list <br>\n",
    "5) The program Loops until user 'quits' <br>\n",
    "6) Upon quiting the program, print out all items in the user's list <br>\n",
    "</p>"
   ]
  },
  {
   "cell_type": "code",
   "execution_count": 4,
   "metadata": {},
   "outputs": [
    {
     "name": "stdin",
     "output_type": "stream",
     "text": [
      "What are we doing? \n",
      "'cart' or 'show' to see cart. \n",
      "'buy' or 'add' to buy more groceries. \n",
      "'remove' or 'delete' to take an item out. \n",
      "'checkout' or 'quit' to stop shopping. \n",
      "\n",
      "We want to:  cart\n"
     ]
    },
    {
     "name": "stdout",
     "output_type": "stream",
     "text": [
      "{} <--- empty our shopping cart is \n",
      "\n"
     ]
    },
    {
     "name": "stdin",
     "output_type": "stream",
     "text": [
      "What are we doing? \n",
      "'cart' or 'show' to see cart. \n",
      "'buy' or 'add' to buy more groceries. \n",
      "'remove' or 'delete' to take an item out. \n",
      "'checkout' or 'quit' to stop shopping. \n",
      "\n",
      "We want to:  add\n",
      "What are we buying:  apples\n",
      "How many apples are we buying:  2\n"
     ]
    },
    {
     "name": "stdout",
     "output_type": "stream",
     "text": [
      "\n",
      "2 apples added \n",
      "\n",
      "your shopping cart has \n",
      "2x apples\n",
      "\n",
      "\n"
     ]
    },
    {
     "name": "stdin",
     "output_type": "stream",
     "text": [
      "What are we doing? \n",
      "'cart' or 'show' to see cart. \n",
      "'buy' or 'add' to buy more groceries. \n",
      "'remove' or 'delete' to take an item out. \n",
      "'checkout' or 'quit' to stop shopping. \n",
      "\n",
      "We want to:  add\n",
      "What are we buying:  oranges\n",
      "How many oranges are we buying:  2\n"
     ]
    },
    {
     "name": "stdout",
     "output_type": "stream",
     "text": [
      "\n",
      "2 oranges added \n",
      "\n",
      "your shopping cart has \n",
      "2x apples\n",
      "2x oranges\n",
      "\n",
      "\n"
     ]
    },
    {
     "name": "stdin",
     "output_type": "stream",
     "text": [
      "What are we doing? \n",
      "'cart' or 'show' to see cart. \n",
      "'buy' or 'add' to buy more groceries. \n",
      "'remove' or 'delete' to take an item out. \n",
      "'checkout' or 'quit' to stop shopping. \n",
      "\n",
      "We want to:  add\n",
      "What are we buying:  \n"
     ]
    },
    {
     "name": "stdout",
     "output_type": "stream",
     "text": [
      "I must be blind, I didn't see anything \n",
      "\n",
      "your shopping cart has \n",
      "2x apples\n",
      "2x oranges\n",
      "\n",
      "\n"
     ]
    },
    {
     "name": "stdin",
     "output_type": "stream",
     "text": [
      "What are we doing? \n",
      "'cart' or 'show' to see cart. \n",
      "'buy' or 'add' to buy more groceries. \n",
      "'remove' or 'delete' to take an item out. \n",
      "'checkout' or 'quit' to stop shopping. \n",
      "\n",
      "We want to:  add\n",
      "What are we buying:  apples\n",
      "How many apples are we buying:  f\n"
     ]
    },
    {
     "name": "stdout",
     "output_type": "stream",
     "text": [
      "That's not a number G \n",
      "\n"
     ]
    },
    {
     "name": "stdin",
     "output_type": "stream",
     "text": [
      "How many apples are we buying:  2\n"
     ]
    },
    {
     "name": "stdout",
     "output_type": "stream",
     "text": [
      "\n",
      "2 apples added \n",
      "\n",
      "your shopping cart has \n",
      "4x apples\n",
      "2x oranges\n",
      "\n",
      "\n"
     ]
    },
    {
     "name": "stdin",
     "output_type": "stream",
     "text": [
      "What are we doing? \n",
      "'cart' or 'show' to see cart. \n",
      "'buy' or 'add' to buy more groceries. \n",
      "'remove' or 'delete' to take an item out. \n",
      "'checkout' or 'quit' to stop shopping. \n",
      "\n",
      "We want to:  add\n",
      "What are we buying:  pears\n",
      "How many pears are we buying:  1\n"
     ]
    },
    {
     "name": "stdout",
     "output_type": "stream",
     "text": [
      "\n",
      "1 pears added \n",
      "\n",
      "your shopping cart has \n",
      "4x apples\n",
      "2x oranges\n",
      "1x pears\n",
      "\n",
      "\n"
     ]
    },
    {
     "name": "stdin",
     "output_type": "stream",
     "text": [
      "What are we doing? \n",
      "'cart' or 'show' to see cart. \n",
      "'buy' or 'add' to buy more groceries. \n",
      "'remove' or 'delete' to take an item out. \n",
      "'checkout' or 'quit' to stop shopping. \n",
      "\n",
      "We want to:  show\n"
     ]
    },
    {
     "name": "stdout",
     "output_type": "stream",
     "text": [
      "your shopping cart has \n",
      "4x apples\n",
      "2x oranges\n",
      "1x pears\n",
      "\n",
      "\n"
     ]
    },
    {
     "name": "stdin",
     "output_type": "stream",
     "text": [
      "What are we doing? \n",
      "'cart' or 'show' to see cart. \n",
      "'buy' or 'add' to buy more groceries. \n",
      "'remove' or 'delete' to take an item out. \n",
      "'checkout' or 'quit' to stop shopping. \n",
      "\n",
      "We want to:  remove\n",
      "What item are we removing:  apple\n"
     ]
    },
    {
     "name": "stdout",
     "output_type": "stream",
     "text": [
      "Like Santa, apple doesn't exist \n",
      "\n",
      "your shopping cart has \n",
      "4x apples\n",
      "2x oranges\n",
      "1x pears\n",
      "\n",
      "\n"
     ]
    },
    {
     "name": "stdin",
     "output_type": "stream",
     "text": [
      "What are we doing? \n",
      "'cart' or 'show' to see cart. \n",
      "'buy' or 'add' to buy more groceries. \n",
      "'remove' or 'delete' to take an item out. \n",
      "'checkout' or 'quit' to stop shopping. \n",
      "\n",
      "We want to:  remove\n",
      "What item are we removing:  apples\n",
      "How many of apples are we removing:  1\n"
     ]
    },
    {
     "name": "stdout",
     "output_type": "stream",
     "text": [
      "\n",
      "1 apples removed \n",
      "\n",
      "your shopping cart has \n",
      "3x apples\n",
      "2x oranges\n",
      "1x pears\n",
      "\n",
      "\n"
     ]
    },
    {
     "name": "stdin",
     "output_type": "stream",
     "text": [
      "What are we doing? \n",
      "'cart' or 'show' to see cart. \n",
      "'buy' or 'add' to buy more groceries. \n",
      "'remove' or 'delete' to take an item out. \n",
      "'checkout' or 'quit' to stop shopping. \n",
      "\n",
      "We want to:  remove\n",
      "What item are we removing:  apples\n",
      "How many of apples are we removing:   \n"
     ]
    },
    {
     "name": "stdout",
     "output_type": "stream",
     "text": [
      "Was that a number? \n",
      "\n"
     ]
    },
    {
     "name": "stdin",
     "output_type": "stream",
     "text": [
      "How many of apples are we removing:  1\n"
     ]
    },
    {
     "name": "stdout",
     "output_type": "stream",
     "text": [
      "\n",
      "1 apples removed \n",
      "\n",
      "your shopping cart has \n",
      "2x apples\n",
      "2x oranges\n",
      "1x pears\n",
      "\n",
      "\n"
     ]
    },
    {
     "name": "stdin",
     "output_type": "stream",
     "text": [
      "What are we doing? \n",
      "'cart' or 'show' to see cart. \n",
      "'buy' or 'add' to buy more groceries. \n",
      "'remove' or 'delete' to take an item out. \n",
      "'checkout' or 'quit' to stop shopping. \n",
      "\n",
      "We want to:  add\n",
      "What are we buying:  apples\n",
      "How many apples are we buying:  1\n"
     ]
    },
    {
     "name": "stdout",
     "output_type": "stream",
     "text": [
      "\n",
      "1 apples added \n",
      "\n",
      "your shopping cart has \n",
      "3x apples\n",
      "2x oranges\n",
      "1x pears\n",
      "\n",
      "\n"
     ]
    },
    {
     "name": "stdin",
     "output_type": "stream",
     "text": [
      "What are we doing? \n",
      "'cart' or 'show' to see cart. \n",
      "'buy' or 'add' to buy more groceries. \n",
      "'remove' or 'delete' to take an item out. \n",
      "'checkout' or 'quit' to stop shopping. \n",
      "\n",
      "We want to:  remove\n",
      "What item are we removing:  pears\n",
      "How many of pears are we removing:  2\n"
     ]
    },
    {
     "name": "stdout",
     "output_type": "stream",
     "text": [
      "\n",
      "removing pears from cart\n",
      "\n",
      "your shopping cart has \n",
      "3x apples\n",
      "2x oranges\n",
      "\n",
      "\n"
     ]
    },
    {
     "name": "stdin",
     "output_type": "stream",
     "text": [
      "What are we doing? \n",
      "'cart' or 'show' to see cart. \n",
      "'buy' or 'add' to buy more groceries. \n",
      "'remove' or 'delete' to take an item out. \n",
      "'checkout' or 'quit' to stop shopping. \n",
      "\n",
      "We want to:  add\n",
      "What are we buying:  pears\n",
      "How many pears are we buying:  1\n"
     ]
    },
    {
     "name": "stdout",
     "output_type": "stream",
     "text": [
      "\n",
      "1 pears added \n",
      "\n",
      "your shopping cart has \n",
      "3x apples\n",
      "2x oranges\n",
      "1x pears\n",
      "\n",
      "\n"
     ]
    },
    {
     "name": "stdin",
     "output_type": "stream",
     "text": [
      "What are we doing? \n",
      "'cart' or 'show' to see cart. \n",
      "'buy' or 'add' to buy more groceries. \n",
      "'remove' or 'delete' to take an item out. \n",
      "'checkout' or 'quit' to stop shopping. \n",
      "\n",
      "We want to:  cart\n"
     ]
    },
    {
     "name": "stdout",
     "output_type": "stream",
     "text": [
      "your shopping cart has \n",
      "3x apples\n",
      "2x oranges\n",
      "1x pears\n",
      "\n",
      "\n"
     ]
    },
    {
     "name": "stdin",
     "output_type": "stream",
     "text": [
      "What are we doing? \n",
      "'cart' or 'show' to see cart. \n",
      "'buy' or 'add' to buy more groceries. \n",
      "'remove' or 'delete' to take an item out. \n",
      "'checkout' or 'quit' to stop shopping. \n",
      "\n",
      "We want to:  checkout\n"
     ]
    },
    {
     "name": "stdout",
     "output_type": "stream",
     "text": [
      "I'll Miss you :( \n",
      "\n",
      "your shopping cart has \n",
      "3x apples\n",
      "2x oranges\n",
      "1x pears\n",
      "\n",
      "\n"
     ]
    }
   ],
   "source": [
    "from IPython.display import clear_output\n",
    "# Ask the user four bits of input: Do you want to : Show/Add/Delete or Quit?\n",
    "\n",
    "def what_we_doing(action):\n",
    "    \n",
    "    if action in [\"checkout\", \"quit\"]:\n",
    "        print(f\"I'll Miss you :( \\n\")\n",
    "        show_cart(cart) \n",
    "        return False # Stopping point for loop\n",
    "    \n",
    "    elif action in [\"cart\", 'show']:\n",
    "        show_cart(cart)\n",
    "        \n",
    "    elif action in [\"buy\", \"add\"]:\n",
    "        buy_item(cart)\n",
    "        show_cart(cart)\n",
    "\n",
    "        \n",
    "    elif action in [\"remove\", \"delete\"]:\n",
    "        remove_item(cart)\n",
    "        show_cart(cart)\n",
    "        \n",
    "    else:\n",
    "        print(\"Uhhh, no comprende. Try again \\n\")\n",
    "\n",
    "    return True  # Continue to top of list\n",
    "\n",
    "def show_cart(cart):\n",
    "    if cart:\n",
    "        print(f\"your shopping cart has \")\n",
    "        for item, count in cart.items():\n",
    "            print(f\"{count}x {item}\")\n",
    "        print(\"\\n\")            \n",
    "                \n",
    "    else:\n",
    "        print(f\"{cart} <--- empty our shopping cart is \\n\")\n",
    "\n",
    "\n",
    "def buy_item(cart):\n",
    "    item = input(\"What are we buying: \").lower()\n",
    "\n",
    "    if item and item not in [\"quit\", \"checkout\"]:\n",
    "        while True:\n",
    "            count_input = input(f\"How many {item} are we buying: \")\n",
    "\n",
    "            if count_input.isdigit():\n",
    "                count = int(count_input)\n",
    "                if count > 0:\n",
    "                    # Incrementing count by count\n",
    "                    cart[item] = cart.get(item, 0) + count\n",
    "                    print(f\"\\n{count} {item} added \\n\")\n",
    "                break\n",
    "            else:\n",
    "                print(\"That's not a number G \\n\")\n",
    "\n",
    "    elif not item:\n",
    "        print(\"I must be blind, I didn't see anything \\n\")\n",
    "        \n",
    "    else: \n",
    "        print(\"Audible, audible: new action \\n \")          \n",
    "    \n",
    "def remove_item(cart):\n",
    "    if cart:\n",
    "        item = input(\"What item are we removing: \").lower().strip()\n",
    "            \n",
    "        if item and item not in [\"quit\", \"checkout\"]: \n",
    "            if item in cart:\n",
    "                \n",
    "                while True:\n",
    "                    count = (input(f\"How many of {item} are we removing: \"))\n",
    "                    \n",
    "                    if count.isdigit():\n",
    "                        count = int(count)\n",
    "                        if count > 0:\n",
    "                            if count >= cart[item]:\n",
    "                                del cart[item]                    \n",
    "                                print(f\"\\nremoving {item} from cart\\n\")\n",
    "                                break\n",
    "                                \n",
    "                            else:\n",
    "                                cart[item] -= count\n",
    "                                print(f\"\\n{count} {item} removed \\n\")\n",
    "                                break\n",
    "                    else:\n",
    "                            print(\"Was that a number? \\n\")         \n",
    "            else:\n",
    "                print(f\"Like Santa, {item} doesn't exist \\n\")\n",
    "        \n",
    "        elif not item:\n",
    "            print(f\"Casper is that you \\n\")\n",
    "       \n",
    "        else:\n",
    "            print(\"Let's go back to the beginning \\n \")\n",
    "    \n",
    "    else:\n",
    "        print(f\"Deleting zero from zero is still zero \\n\") \n",
    "\n",
    "### Main Program\n",
    "cart = {}\n",
    "while True:\n",
    "    action = input(\"What are we doing? \\n\" \n",
    "                   \"'cart' or 'show' to see cart. \\n\" \n",
    "                   \"'buy' or 'add' to buy more groceries. \\n\"\n",
    "                   \"'remove' or 'delete' to take an item out. \\n\"\n",
    "                   \"'checkout' or 'quit' to stop shopping. \\n\"\n",
    "                   \"\\n\"\n",
    "                   \"We want to: \" ).lower()\n",
    "\n",
    "    if not what_we_doing(action):\n",
    "        break"
   ]
  },
  {
   "cell_type": "code",
   "execution_count": null,
   "metadata": {},
   "outputs": [],
   "source": []
  }
 ],
 "metadata": {
  "kernelspec": {
   "display_name": "Python 3 (ipykernel)",
   "language": "python",
   "name": "python3"
  },
  "language_info": {
   "codemirror_mode": {
    "name": "ipython",
    "version": 3
   },
   "file_extension": ".py",
   "mimetype": "text/x-python",
   "name": "python",
   "nbconvert_exporter": "python",
   "pygments_lexer": "ipython3",
   "version": "3.11.5"
  }
 },
 "nbformat": 4,
 "nbformat_minor": 4
}
